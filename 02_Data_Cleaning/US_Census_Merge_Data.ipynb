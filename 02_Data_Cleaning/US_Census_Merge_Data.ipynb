{
 "cells": [
  {
   "cell_type": "code",
   "execution_count": 1,
   "metadata": {},
   "outputs": [],
   "source": [
    "# Dependencies\n",
    "import numpy as np\n",
    "import pandas as pd\n",
    "import matplotlib.pyplot as plt"
   ]
  },
  {
   "cell_type": "markdown",
   "metadata": {},
   "source": [
    "### Clean Education Data"
   ]
  },
  {
   "cell_type": "code",
   "execution_count": 2,
   "metadata": {},
   "outputs": [],
   "source": [
    "# Import CSV files for education data\n",
    "edu_file_2012 = \"../Appendix_A_Resources/Census.gov/By_Year/Austin_education/Austin_education_2012.csv\"\n",
    "edu_file_2013 = \"../Appendix_A_Resources/Census.gov/By_Year/Austin_education/Austin_education_2013.csv\"\n",
    "edu_file_2014 = \"../Appendix_A_Resources/Census.gov/By_Year/Austin_education/Austin_education_2014.csv\"\n",
    "edu_file_2015 = \"../Appendix_A_Resources/Census.gov/By_Year/Austin_education/Austin_education_2015.csv\"\n",
    "edu_file_2016 = \"../Appendix_A_Resources/Census.gov/By_Year/Austin_education/Austin_education_2016.csv\"\n",
    "edu_file_2017 = \"../Appendix_A_Resources/Census.gov/By_Year/Austin_education/Austin_education_2017.csv\"\n",
    "edu_file_2018 = \"../Appendix_A_Resources/Census.gov/By_Year/Austin_education/Austin_education_2018.csv\"\n",
    "\n",
    "# Read CSVs\n",
    "ed_csv_2012 = pd.read_csv(edu_file_2012)\n",
    "ed_csv_2013 = pd.read_csv(edu_file_2013)\n",
    "ed_csv_2014 = pd.read_csv(edu_file_2014)\n",
    "ed_csv_2015 = pd.read_csv(edu_file_2015)\n",
    "ed_csv_2016 = pd.read_csv(edu_file_2016)\n",
    "ed_csv_2017 = pd.read_csv(edu_file_2017)\n",
    "ed_csv_2018 = pd.read_csv(edu_file_2018)\n",
    "\n",
    "# Convert CSVs to Dataframe\n",
    "ed_2012_df = pd.DataFrame(ed_csv_2012)\n",
    "ed_2013_df = pd.DataFrame(ed_csv_2013)\n",
    "ed_2014_df = pd.DataFrame(ed_csv_2014)\n",
    "ed_2015_df = pd.DataFrame(ed_csv_2015)\n",
    "ed_2016_df = pd.DataFrame(ed_csv_2016)\n",
    "ed_2017_df = pd.DataFrame(ed_csv_2017)\n",
    "ed_2018_df = pd.DataFrame(ed_csv_2018)"
   ]
  },
  {
   "cell_type": "code",
   "execution_count": 3,
   "metadata": {},
   "outputs": [],
   "source": [
    "# Merge Dataframes\n",
    "education_df = pd.merge(ed_2012_df, ed_2013_df, on=\"Zipcode\", how=\"outer\")\n",
    "\n",
    "# Rename x columns\n",
    "education_df = education_df.rename(columns={\"Education (No Schooling)_x\": \"Education (No Schooling)_2012\", \n",
    "                                           \"Education (High School)_x\": \"Education (High School)_2012\",\n",
    "                                           \"Education (GED)_x\": \"Education (GED)_2012\",\n",
    "                                           \"Education (Associate's)_x\": \"Education (Associate's)_2012\",\n",
    "                                           \"Education (Bachelor's)_x\": \"Education (Bachelor's)_2012\",\n",
    "                                           \"Education (Master's)_x\": \"Education (Master's)_2012\",\n",
    "                                           \"Education (Professional)_x\": \"Education (Master's)_2012\",\n",
    "                                           \"Education (Doctorate)_x\": \"Education (Doctorate)_2012\"})\n",
    "\n",
    "# Rename y columns\n",
    "education_df = education_df.rename(columns={\"Education (No Schooling)_y\": \"Education (No Schooling)_2013\", \n",
    "                                           \"Education (High School)_y\": \"Education (High School)_2013\",\n",
    "                                           \"Education (GED)_y\": \"Education (GED)_2013\",\n",
    "                                           \"Education (Associate's)_y\": \"Education (Associate's)_2013\",\n",
    "                                           \"Education (Bachelor's)_y\": \"Education (Bachelor's)_2013\",\n",
    "                                           \"Education (Master's)_y\": \"Education (Master's)_2013\",\n",
    "                                           \"Education (Professional)_y\": \"Education (Master's)_2013\",\n",
    "                                           \"Education (Doctorate)_y\": \"Education (Doctorate)_2013\"})"
   ]
  },
  {
   "cell_type": "markdown",
   "metadata": {},
   "source": [
    "Merge with 2014 data"
   ]
  },
  {
   "cell_type": "code",
   "execution_count": 4,
   "metadata": {
    "scrolled": true
   },
   "outputs": [],
   "source": [
    "# Merge Dataframes\n",
    "education_df = pd.merge(education_df, ed_2014_df, on=\"Zipcode\", how=\"outer\")\n",
    "\n",
    "# Rename x columns\n",
    "education_df = education_df.rename(columns={\"Education (No Schooling)\": \"Education (No Schooling)_2014\", \n",
    "                                           \"Education (High School)\": \"Education (High School)_2014\",\n",
    "                                           \"Education (GED)\": \"Education (GED)_2014\",\n",
    "                                           \"Education (Associate's)\": \"Education (Associate's)_2014\",\n",
    "                                           \"Education (Bachelor's)\": \"Education (Bachelor's)_2014\",\n",
    "                                           \"Education (Master's)\": \"Education (Master's)_2014\",\n",
    "                                           \"Education (Professional)\": \"Education (Master's)_2014\",\n",
    "                                           \"Education (Doctorate)\": \"Education (Doctorate)_2014\"})"
   ]
  },
  {
   "cell_type": "markdown",
   "metadata": {},
   "source": [
    "Merge with 2015 data"
   ]
  },
  {
   "cell_type": "code",
   "execution_count": 5,
   "metadata": {},
   "outputs": [],
   "source": [
    "# Merge Dataframes\n",
    "education_df = pd.merge(education_df, ed_2015_df, on=\"Zipcode\", how=\"outer\")\n",
    "\n",
    "# Rename x columns\n",
    "education_df = education_df.rename(columns={\"Education (No Schooling)\": \"Education (No Schooling)_2015\", \n",
    "                                           \"Education (High School)\": \"Education (High School)_2015\",\n",
    "                                           \"Education (GED)\": \"Education (GED)_2015\",\n",
    "                                           \"Education (Associate's)\": \"Education (Associate's)_2015\",\n",
    "                                           \"Education (Bachelor's)\": \"Education (Bachelor's)_2015\",\n",
    "                                           \"Education (Master's)\": \"Education (Master's)_2015\",\n",
    "                                           \"Education (Professional)\": \"Education (Master's)_2015\",\n",
    "                                           \"Education (Doctorate)\": \"Education (Doctorate)_2015\"})"
   ]
  },
  {
   "cell_type": "markdown",
   "metadata": {},
   "source": [
    "Merge with 2016 data"
   ]
  },
  {
   "cell_type": "code",
   "execution_count": 6,
   "metadata": {},
   "outputs": [],
   "source": [
    "# Merge Dataframes\n",
    "education_df = pd.merge(education_df, ed_2016_df, on=\"Zipcode\", how=\"outer\")\n",
    "\n",
    "# Rename x columns\n",
    "education_df = education_df.rename(columns={\"Education (No Schooling)\": \"Education (No Schooling)_2016\", \n",
    "                                           \"Education (High School)\": \"Education (High School)_2016\",\n",
    "                                           \"Education (GED)\": \"Education (GED)_2016\",\n",
    "                                           \"Education (Associate's)\": \"Education (Associate's)_2016\",\n",
    "                                           \"Education (Bachelor's)\": \"Education (Bachelor's)_2016\",\n",
    "                                           \"Education (Master's)\": \"Education (Master's)_2016\",\n",
    "                                           \"Education (Professional)\": \"Education (Master's)_2016\",\n",
    "                                           \"Education (Doctorate)\": \"Education (Doctorate)_2016\"})"
   ]
  },
  {
   "cell_type": "markdown",
   "metadata": {},
   "source": [
    "Merge with 2017 data"
   ]
  },
  {
   "cell_type": "code",
   "execution_count": 7,
   "metadata": {},
   "outputs": [],
   "source": [
    "# Merge Dataframes\n",
    "education_df = pd.merge(education_df, ed_2017_df, on=\"Zipcode\", how=\"outer\")\n",
    "\n",
    "# Rename x columns\n",
    "education_df = education_df.rename(columns={\"Education (No Schooling)\": \"Education (No Schooling)_2017\", \n",
    "                                           \"Education (High School)\": \"Education (High School)_2017\",\n",
    "                                           \"Education (GED)\": \"Education (GED)_2017\",\n",
    "                                           \"Education (Associate's)\": \"Education (Associate's)_2017\",\n",
    "                                           \"Education (Bachelor's)\": \"Education (Bachelor's)_2017\",\n",
    "                                           \"Education (Master's)\": \"Education (Master's)_2017\",\n",
    "                                           \"Education (Professional)\": \"Education (Master's)_2017\",\n",
    "                                           \"Education (Doctorate)\": \"Education (Doctorate)_2017\"})"
   ]
  },
  {
   "cell_type": "markdown",
   "metadata": {},
   "source": [
    "Merge with 2018 data"
   ]
  },
  {
   "cell_type": "code",
   "execution_count": 8,
   "metadata": {},
   "outputs": [],
   "source": [
    "# Merge Dataframes\n",
    "education_df = pd.merge(education_df, ed_2018_df, on=\"Zipcode\", how=\"outer\")\n",
    "\n",
    "# Rename x columns\n",
    "education_df = education_df.rename(columns={\"Education (No Schooling)\": \"Education (No Schooling)_2018\", \n",
    "                                           \"Education (High School)\": \"Education (High School)_2018\",\n",
    "                                           \"Education (GED)\": \"Education (GED)_2018\",\n",
    "                                           \"Education (Associate's)\": \"Education (Associate's)_2018\",\n",
    "                                           \"Education (Bachelor's)\": \"Education (Bachelor's)_2018\",\n",
    "                                           \"Education (Master's)\": \"Education (Master's)_2018\",\n",
    "                                           \"Education (Professional)\": \"Education (Master's)_2018\",\n",
    "                                           \"Education (Doctorate)\": \"Education (Doctorate)_2018\"})"
   ]
  },
  {
   "cell_type": "markdown",
   "metadata": {},
   "source": [
    "### Clean Population Data"
   ]
  },
  {
   "cell_type": "markdown",
   "metadata": {},
   "source": [
    "Import CSVs"
   ]
  },
  {
   "cell_type": "code",
   "execution_count": 9,
   "metadata": {},
   "outputs": [],
   "source": [
    "# Import CSV files for population data\n",
    "pop_file_2011 = \"../Appendix_A_Resources/Census.gov/By_Year/Austin_population/Austin_population_2011.csv\"\n",
    "pop_file_2012 = \"../Appendix_A_Resources/Census.gov/By_Year/Austin_population/Austin_population_2012.csv\"\n",
    "pop_file_2013 = \"../Appendix_A_Resources/Census.gov/By_Year/Austin_population/Austin_population_2013.csv\"\n",
    "pop_file_2014 = \"../Appendix_A_Resources/Census.gov/By_Year/Austin_population/Austin_population_2014.csv\"\n",
    "pop_file_2015 = \"../Appendix_A_Resources/Census.gov/By_Year/Austin_population/Austin_population_2015.csv\"\n",
    "pop_file_2016 = \"../Appendix_A_Resources/Census.gov/By_Year/Austin_population/Austin_population_2016.csv\"\n",
    "pop_file_2017 = \"../Appendix_A_Resources/Census.gov/By_Year/Austin_population/Austin_population_2017.csv\"\n",
    "pop_file_2018 = \"../Appendix_A_Resources/Census.gov/By_Year/Austin_population/Austin_population_2018.csv\"\n",
    "\n",
    "\n",
    "# Read CSVs\n",
    "pop_csv_2011 = pd.read_csv(pop_file_2011)\n",
    "pop_csv_2012 = pd.read_csv(pop_file_2012)\n",
    "pop_csv_2013 = pd.read_csv(pop_file_2013)\n",
    "pop_csv_2014 = pd.read_csv(pop_file_2014)\n",
    "pop_csv_2015 = pd.read_csv(pop_file_2015)\n",
    "pop_csv_2016 = pd.read_csv(pop_file_2016)\n",
    "pop_csv_2017 = pd.read_csv(pop_file_2017)\n",
    "pop_csv_2018 = pd.read_csv(pop_file_2018)\n",
    "\n",
    "# Convert CSVs to Dataframe\n",
    "pop_2011_df = pd.DataFrame(pop_csv_2011)\n",
    "pop_2012_df = pd.DataFrame(pop_csv_2012)\n",
    "pop_2013_df = pd.DataFrame(pop_csv_2013)\n",
    "pop_2014_df = pd.DataFrame(pop_csv_2014)\n",
    "pop_2015_df = pd.DataFrame(pop_csv_2015)\n",
    "pop_2016_df = pd.DataFrame(pop_csv_2016)\n",
    "pop_2017_df = pd.DataFrame(pop_csv_2017)\n",
    "pop_2018_df = pd.DataFrame(pop_csv_2018)"
   ]
  },
  {
   "cell_type": "markdown",
   "metadata": {},
   "source": [
    "Merge 2011 and 2012 data"
   ]
  },
  {
   "cell_type": "code",
   "execution_count": 10,
   "metadata": {},
   "outputs": [],
   "source": [
    "# Merge Dataframes\n",
    "population_df = pd.merge(pop_2011_df, pop_2012_df, on=\"Zipcode\", how=\"outer\")\n",
    "\n",
    "# Rename x columns\n",
    "population_df = population_df.rename(columns={\"Median Age_x\": \"Median Age_2011\", \n",
    "                                              \"Population_x\": \"Population_2011\",\n",
    "                                              \"Population (White Alone)_x\": \"Population (White Alone)_2011\",\n",
    "                                              \"Population (Black Alone)_x\": \"Population (Black Alone)_2011\",\n",
    "                                              \"Population (American Indian or Alaskan Native Alone)_x\": \"Population (American Indian or Alaskan Native Alone)_2011\",\n",
    "                                              \"Population (Asian Alone)_x\": \"Population (Asian Alone)_2011\",\n",
    "                                              \"Population (Native Hawaiian and Other Pacific Islander Alone)_x\": \"Population (Native Hawaiian and Other Pacific Islander Alone)_2011\",\n",
    "                                              \"Population (Two or more races)_x\": \"Population (Two or more races)_2011\",\n",
    "                                              \"Household Income_x\": \"Household Income_2011\",\n",
    "                                              \"Per Capita Income_x\": \"Per Capita Income_2011\",\n",
    "                                              \"Employed_x\": \"Employed_2011\",\n",
    "                                              \"Unemployed_x\": \"Unemployed_2011\"})\n",
    "\n",
    "# Rename y columns\n",
    "population_df = population_df.rename(columns={\"Median Age_y\": \"Median Age_2012\", \n",
    "                                              \"Population_y\": \"Population_2012\",\n",
    "                                              \"Population (White Alone)_y\": \"Population (White Alone)_2012\",\n",
    "                                              \"Population (Black Alone)_y\": \"Population (Black Alone)_2012\",\n",
    "                                              \"Population (American Indian or Alaskan Native Alone)_y\": \"Population (American Indian or Alaskan Native Alone)_2012\",\n",
    "                                              \"Population (Asian Alone)_y\": \"Population (Asian Alone)_2012\",\n",
    "                                              \"Population (Native Hawaiian and Other Pacific Islander Alone)_y\": \"Population (Native Hawaiian and Other Pacific Islander Alone)_2012\",\n",
    "                                              \"Population (Two or more races)_y\": \"Population (Two or more races)_2012\",\n",
    "                                              \"Household Income_y\": \"Household Income_2012\",\n",
    "                                              \"Per Capita Income_y\": \"Per Capita Income_2012\",\n",
    "                                              \"Employed_y\": \"Employed_2012\",\n",
    "                                              \"Unemployed_y\": \"Unemployed_2012\"})"
   ]
  },
  {
   "cell_type": "markdown",
   "metadata": {},
   "source": [
    "Merge data frame with 2013 data"
   ]
  },
  {
   "cell_type": "code",
   "execution_count": 11,
   "metadata": {},
   "outputs": [],
   "source": [
    "# Merge Dataframes\n",
    "population_df = pd.merge(population_df, pop_2013_df, on=\"Zipcode\", how=\"outer\")\n",
    "\n",
    "# Rename x columns\n",
    "population_df = population_df.rename(columns={\"Median Age\": \"Median Age_2013\", \n",
    "                                              \"Population\": \"Population_2013\",\n",
    "                                              \"Population (White Alone)\": \"Population (White Alone)_2013\",\n",
    "                                              \"Population (Black Alone)\": \"Population (Black Alone)_2013\",\n",
    "                                              \"Population (American Indian or Alaskan Native Alone)\": \"Population (American Indian or Alaskan Native Alone)_2013\",\n",
    "                                              \"Population (Asian Alone)\": \"Population (Asian Alone)_2013\",\n",
    "                                              \"Population (Native Hawaiian and Other Pacific Islander Alone)\": \"Population (Native Hawaiian and Other Pacific Islander Alone)_2013\",\n",
    "                                              \"Population (Two or more races)\": \"Population (Two or more races)_2013\",\n",
    "                                              \"Household Income\": \"Household Income_2013\",\n",
    "                                              \"Per Capita Income\": \"Per Capita Income_2013\",\n",
    "                                              \"Employed\": \"Employed_2013\",\n",
    "                                              \"Unemployed\": \"Unemployed_2013\"})"
   ]
  },
  {
   "cell_type": "markdown",
   "metadata": {},
   "source": [
    "Merge data frame with 2014 data "
   ]
  },
  {
   "cell_type": "code",
   "execution_count": 12,
   "metadata": {},
   "outputs": [],
   "source": [
    "# Merge Dataframes\n",
    "population_df = pd.merge(population_df, pop_2014_df, on=\"Zipcode\", how=\"outer\")\n",
    "\n",
    "# Rename x columns\n",
    "population_df = population_df.rename(columns={\"Median Age\": \"Median Age_2014\", \n",
    "                                              \"Population\": \"Population_2014\",\n",
    "                                              \"Population (White Alone)\": \"Population (White Alone)_2014\",\n",
    "                                              \"Population (Black Alone)\": \"Population (Black Alone)_2014\",\n",
    "                                              \"Population (American Indian or Alaskan Native Alone)\": \"Population (American Indian or Alaskan Native Alone)_2014\",\n",
    "                                              \"Population (Asian Alone)\": \"Population (Asian Alone)_2014\",\n",
    "                                              \"Population (Native Hawaiian and Other Pacific Islander Alone)\": \"Population (Native Hawaiian and Other Pacific Islander Alone)_2014\",\n",
    "                                              \"Population (Two or more races)\": \"Population (Two or more races)_2014\",\n",
    "                                              \"Household Income\": \"Household Income_2014\",\n",
    "                                              \"Per Capita Income\": \"Per Capita Income_2014\",\n",
    "                                              \"Employed\": \"Employed_2014\",\n",
    "                                              \"Unemployed\": \"Unemployed_2014\"})"
   ]
  },
  {
   "cell_type": "markdown",
   "metadata": {},
   "source": [
    "Merge data frame with 2015 data"
   ]
  },
  {
   "cell_type": "code",
   "execution_count": 13,
   "metadata": {},
   "outputs": [],
   "source": [
    "# Merge Dataframes\n",
    "population_df = pd.merge(population_df, pop_2015_df, on=\"Zipcode\", how=\"outer\")\n",
    "\n",
    "# Rename x columns\n",
    "population_df = population_df.rename(columns={\"Median Age\": \"Median Age_2015\", \n",
    "                                              \"Population\": \"Population_2015\",\n",
    "                                              \"Population (White Alone)\": \"Population (White Alone)_2015\",\n",
    "                                              \"Population (Black Alone)\": \"Population (Black Alone)_2015\",\n",
    "                                              \"Population (American Indian or Alaskan Native Alone)\": \"Population (American Indian or Alaskan Native Alone)_2015\",\n",
    "                                              \"Population (Asian Alone)\": \"Population (Asian Alone)_2015\",\n",
    "                                              \"Population (Native Hawaiian and Other Pacific Islander Alone)\": \"Population (Native Hawaiian and Other Pacific Islander Alone)_2015\",\n",
    "                                              \"Population (Two or more races)\": \"Population (Two or more races)_2015\",\n",
    "                                              \"Household Income\": \"Household Income_2015\",\n",
    "                                              \"Per Capita Income\": \"Per Capita Income_2015\",\n",
    "                                              \"Employed\": \"Employed_2015\",\n",
    "                                              \"Unemployed\": \"Unemployed_2015\"})"
   ]
  },
  {
   "cell_type": "markdown",
   "metadata": {},
   "source": [
    "Merge data frame with 2016 data"
   ]
  },
  {
   "cell_type": "code",
   "execution_count": 14,
   "metadata": {},
   "outputs": [],
   "source": [
    "# Merge Dataframes\n",
    "population_df = pd.merge(population_df, pop_2016_df, on=\"Zipcode\", how=\"outer\")\n",
    "\n",
    "# Rename x columns\n",
    "population_df = population_df.rename(columns={\"Median Age\": \"Median Age_2016\", \n",
    "                                              \"Population\": \"Population_2016\",\n",
    "                                              \"Population (White Alone)\": \"Population (White Alone)_2016\",\n",
    "                                              \"Population (Black Alone)\": \"Population (Black Alone)_2016\",\n",
    "                                              \"Population (American Indian or Alaskan Native Alone)\": \"Population (American Indian or Alaskan Native Alone)_2016\",\n",
    "                                              \"Population (Asian Alone)\": \"Population (Asian Alone)_2016\",\n",
    "                                              \"Population (Native Hawaiian and Other Pacific Islander Alone)\": \"Population (Native Hawaiian and Other Pacific Islander Alone)_2016\",\n",
    "                                              \"Population (Two or more races)\": \"Population (Two or more races)_2016\",\n",
    "                                              \"Household Income\": \"Household Income_2016\",\n",
    "                                              \"Per Capita Income\": \"Per Capita Income_2016\",\n",
    "                                              \"Employed\": \"Employed_2016\",\n",
    "                                              \"Unemployed\": \"Unemployed_2016\"})"
   ]
  },
  {
   "cell_type": "markdown",
   "metadata": {},
   "source": [
    "Merge data frame with 2017 data"
   ]
  },
  {
   "cell_type": "code",
   "execution_count": 15,
   "metadata": {},
   "outputs": [],
   "source": [
    "# Merge Dataframes\n",
    "population_df = pd.merge(population_df, pop_2017_df, on=\"Zipcode\", how=\"outer\")\n",
    "\n",
    "# Rename x columns\n",
    "population_df = population_df.rename(columns={\"Median Age\": \"Median Age_2017\", \n",
    "                                              \"Population\": \"Population_2017\",\n",
    "                                              \"Population (White Alone)\": \"Population (White Alone)_2017\",\n",
    "                                              \"Population (Black Alone)\": \"Population (Black Alone)_2017\",\n",
    "                                              \"Population (American Indian or Alaskan Native Alone)\": \"Population (American Indian or Alaskan Native Alone)_2017\",\n",
    "                                              \"Population (Asian Alone)\": \"Population (Asian Alone)_2017\",\n",
    "                                              \"Population (Native Hawaiian and Other Pacific Islander Alone)\": \"Population (Native Hawaiian and Other Pacific Islander Alone)_2017\",\n",
    "                                              \"Population (Two or more races)\": \"Population (Two or more races)_2017\",\n",
    "                                              \"Household Income\": \"Household Income_2017\",\n",
    "                                              \"Per Capita Income\": \"Per Capita Income_2017\",\n",
    "                                              \"Employed\": \"Employed_2017\",\n",
    "                                              \"Unemployed\": \"Unemployed_2017\"})"
   ]
  },
  {
   "cell_type": "markdown",
   "metadata": {},
   "source": [
    "Merge data frame with 2018 data"
   ]
  },
  {
   "cell_type": "code",
   "execution_count": 16,
   "metadata": {},
   "outputs": [],
   "source": [
    "# Merge Dataframes\n",
    "population_df = pd.merge(population_df, pop_2018_df, on=\"Zipcode\", how=\"outer\")\n",
    "\n",
    "# Rename x columns\n",
    "population_df = population_df.rename(columns={\"Median Age\": \"Median Age_2018\", \n",
    "                                              \"Population\": \"Population_2018\",\n",
    "                                              \"Population (White Alone)\": \"Population (White Alone)_2018\",\n",
    "                                              \"Population (Black Alone)\": \"Population (Black Alone)_2018\",\n",
    "                                              \"Population (American Indian or Alaskan Native Alone)\": \"Population (American Indian or Alaskan Native Alone)_2018\",\n",
    "                                              \"Population (Asian Alone)\": \"Population (Asian Alone)_2018\",\n",
    "                                              \"Population (Native Hawaiian and Other Pacific Islander Alone)\": \"Population (Native Hawaiian and Other Pacific Islander Alone)_2018\",\n",
    "                                              \"Population (Two or more races)\": \"Population (Two or more races)_2018\",\n",
    "                                              \"Household Income\": \"Household Income_2018\",\n",
    "                                              \"Per Capita Income\": \"Per Capita Income_2018\",\n",
    "                                              \"Employed\": \"Employed_2018\",\n",
    "                                              \"Unemployed\": \"Unemployed_2018\"})"
   ]
  },
  {
   "cell_type": "markdown",
   "metadata": {},
   "source": [
    "### Merge Poverty Data"
   ]
  },
  {
   "cell_type": "markdown",
   "metadata": {},
   "source": [
    "Import CSVs"
   ]
  },
  {
   "cell_type": "code",
   "execution_count": 17,
   "metadata": {},
   "outputs": [],
   "source": [
    "# Import CSV files for poverty data\n",
    "poverty_file_2011 = \"../Appendix_A_Resources/Census.gov/By_Year/Austin_poverty/Austin_poverty_2011.csv\"\n",
    "poverty_file_2012 = \"../Appendix_A_Resources/Census.gov/By_Year/Austin_poverty/Austin_poverty_2012.csv\"\n",
    "poverty_file_2013 = \"../Appendix_A_Resources/Census.gov/By_Year/Austin_poverty/Austin_poverty_2013.csv\"\n",
    "poverty_file_2014 = \"../Appendix_A_Resources/Census.gov/By_Year/Austin_poverty/Austin_poverty_2014.csv\"\n",
    "poverty_file_2015 = \"../Appendix_A_Resources/Census.gov/By_Year/Austin_poverty/Austin_poverty_2015.csv\"\n",
    "poverty_file_2016 = \"../Appendix_A_Resources/Census.gov/By_Year/Austin_poverty/Austin_poverty_2016.csv\"\n",
    "poverty_file_2017 = \"../Appendix_A_Resources/Census.gov/By_Year/Austin_poverty/Austin_poverty_2017.csv\"\n",
    "poverty_file_2018 = \"../Appendix_A_Resources/Census.gov/By_Year/Austin_poverty/Austin_poverty_2018.csv\"\n",
    "\n",
    "\n",
    "# Read CSVs\n",
    "poverty_csv_2011 = pd.read_csv(poverty_file_2011)\n",
    "poverty_csv_2012 = pd.read_csv(poverty_file_2012)\n",
    "poverty_csv_2013 = pd.read_csv(poverty_file_2013)\n",
    "poverty_csv_2014 = pd.read_csv(poverty_file_2014)\n",
    "poverty_csv_2015 = pd.read_csv(poverty_file_2015)\n",
    "poverty_csv_2016 = pd.read_csv(poverty_file_2016)\n",
    "poverty_csv_2017 = pd.read_csv(poverty_file_2017)\n",
    "poverty_csv_2018 = pd.read_csv(poverty_file_2018)\n",
    "\n",
    "# Convert CSVs to Dataframe\n",
    "poverty_2011_df = pd.DataFrame(poverty_csv_2011)\n",
    "poverty_2012_df = pd.DataFrame(poverty_csv_2012)\n",
    "poverty_2013_df = pd.DataFrame(poverty_csv_2013)\n",
    "poverty_2014_df = pd.DataFrame(poverty_csv_2014)\n",
    "poverty_2015_df = pd.DataFrame(poverty_csv_2015)\n",
    "poverty_2016_df = pd.DataFrame(poverty_csv_2016)\n",
    "poverty_2017_df = pd.DataFrame(poverty_csv_2017)\n",
    "poverty_2018_df = pd.DataFrame(poverty_csv_2018)"
   ]
  },
  {
   "cell_type": "markdown",
   "metadata": {},
   "source": [
    "Merge 2011 and 2012 data"
   ]
  },
  {
   "cell_type": "code",
   "execution_count": 18,
   "metadata": {},
   "outputs": [],
   "source": [
    "# Merge Dataframes\n",
    "poverty_df = pd.merge(poverty_2011_df, poverty_2012_df, on=\"Zipcode\", how=\"outer\")\n",
    "\n",
    "# Rename x columns\n",
    "poverty_df = poverty_df.rename(columns={\"Median Age_x\": \"Median Age_2011\", \n",
    "                                          \"Poverty White_x\": \"Poverty White_2011\",\n",
    "                                          \"Poverty Black_x\": \"Poverty Black_2011\",\n",
    "                                          \"Poverty American Indian_x\": \"Poverty American Indian_2011\",\n",
    "                                          \"Poverty Asian_x\": \"Poverty Asian_2011\",\n",
    "                                          \"Poverty Hispanic_x\": \"Poverty Hispanic_2011\",\n",
    "                                          \"Poverty Two or More Races_x\": \"Poverty Two or More Races_2011\",\n",
    "                                          \"Total Poverty Count_x\": \"Total Poverty Count_2011\",\n",
    "                                          \"Poverty Male_x\": \"Poverty Male_2011\", \n",
    "                                          \"Poverty Female_x\": \"Female_2011\"})\n",
    "\n",
    "# Rename y columns\n",
    "poverty_df = poverty_df.rename(columns={\"Median Age_y\": \"Median Age_2012\", \n",
    "                                          \"Poverty White_y\": \"Poverty White_2012\",\n",
    "                                          \"Poverty Black_y\": \"Poverty Black_2012\",\n",
    "                                          \"Poverty American Indian_y\": \"Poverty American Indian_2012\",\n",
    "                                          \"Poverty Asian_y\": \"Poverty Asian_2012\",\n",
    "                                          \"Poverty Hispanic_y\": \"Poverty Hispanic_2012\",\n",
    "                                          \"Poverty Two or More Races_y\": \"Poverty Two or More Races_2012\",\n",
    "                                          \"Total Poverty Count_y\": \"Total Poverty Count_2012\",\n",
    "                                          \"Poverty Male_y\": \"Poverty Male_2012\", \n",
    "                                          \"Poverty Female_y\": \"Female_2012\"})"
   ]
  },
  {
   "cell_type": "markdown",
   "metadata": {},
   "source": [
    "Merge 2013 data"
   ]
  },
  {
   "cell_type": "code",
   "execution_count": 19,
   "metadata": {},
   "outputs": [],
   "source": [
    "# Merge Dataframes\n",
    "poverty_df = pd.merge(poverty_df, poverty_2013_df, on=\"Zipcode\", how=\"outer\")\n",
    "\n",
    "# Rename x columns\n",
    "poverty_df = poverty_df.rename(columns={\"Median Age\": \"Median Age_2013\", \n",
    "                                          \"Poverty White\": \"Poverty White_2013\",\n",
    "                                          \"Poverty Black\": \"Poverty Black_2013\",\n",
    "                                          \"Poverty American Indian\": \"Poverty American Indian_2013\",\n",
    "                                          \"Poverty Asian\": \"Poverty Asian_2013\",\n",
    "                                          \"Poverty Hispanic\": \"Poverty Hispanic_2013\",\n",
    "                                          \"Poverty Two or More Races\": \"Poverty Two or More Races_2013\",\n",
    "                                          \"Total Poverty Count\": \"Total Poverty Count_2013\",\n",
    "                                          \"Poverty Male\": \"Poverty Male_2013\", \n",
    "                                          \"Poverty Female\": \"Female_2013\"})"
   ]
  },
  {
   "cell_type": "markdown",
   "metadata": {},
   "source": [
    "Merge 2014 data"
   ]
  },
  {
   "cell_type": "code",
   "execution_count": 20,
   "metadata": {},
   "outputs": [],
   "source": [
    "# Merge Dataframes\n",
    "poverty_df = pd.merge(poverty_df, poverty_2014_df, on=\"Zipcode\", how=\"outer\")\n",
    "\n",
    "# Rename x columns\n",
    "poverty_df = poverty_df.rename(columns={\"Median Age\": \"Median Age_2014\", \n",
    "                                          \"Poverty White\": \"Poverty White_2014\",\n",
    "                                          \"Poverty Black\": \"Poverty Black_2014\",\n",
    "                                          \"Poverty American Indian\": \"Poverty American Indian_2014\",\n",
    "                                          \"Poverty Asian\": \"Poverty Asian_2014\",\n",
    "                                          \"Poverty Hispanic\": \"Poverty Hispanic_2014\",\n",
    "                                          \"Poverty Two or More Races\": \"Poverty Two or More Races_2014\",\n",
    "                                          \"Total Poverty Count\": \"Total Poverty Count_2014\",\n",
    "                                          \"Poverty Male\": \"Poverty Male_2014\", \n",
    "                                          \"Poverty Female\": \"Female_2014\"})"
   ]
  },
  {
   "cell_type": "markdown",
   "metadata": {},
   "source": [
    "Merge 2015 data"
   ]
  },
  {
   "cell_type": "code",
   "execution_count": 21,
   "metadata": {},
   "outputs": [],
   "source": [
    "# Merge Dataframes\n",
    "poverty_df = pd.merge(poverty_df, poverty_2015_df, on=\"Zipcode\", how=\"outer\")\n",
    "\n",
    "# Rename x columns\n",
    "poverty_df = poverty_df.rename(columns={\"Median Age\": \"Median Age_2015\", \n",
    "                                          \"Poverty White\": \"Poverty White_2015\",\n",
    "                                          \"Poverty Black\": \"Poverty Black_2015\",\n",
    "                                          \"Poverty American Indian\": \"Poverty American Indian_2015\",\n",
    "                                          \"Poverty Asian\": \"Poverty Asian_2015\",\n",
    "                                          \"Poverty Hispanic\": \"Poverty Hispanic_2015\",\n",
    "                                          \"Poverty Two or More Races\": \"Poverty Two or More Races_2015\",\n",
    "                                          \"Total Poverty Count\": \"Total Poverty Count_2015\",\n",
    "                                          \"Poverty Male\": \"Poverty Male_2015\", \n",
    "                                          \"Poverty Female\": \"Female_2015\"})"
   ]
  },
  {
   "cell_type": "markdown",
   "metadata": {},
   "source": [
    "Merge 2016 data"
   ]
  },
  {
   "cell_type": "code",
   "execution_count": 22,
   "metadata": {},
   "outputs": [],
   "source": [
    "# Merge Dataframes\n",
    "poverty_df = pd.merge(poverty_df, poverty_2016_df, on=\"Zipcode\", how=\"outer\")\n",
    "\n",
    "# Rename x columns\n",
    "poverty_df = poverty_df.rename(columns={\"Median Age\": \"Median Age_2016\", \n",
    "                                          \"Poverty White\": \"Poverty White_2016\",\n",
    "                                          \"Poverty Black\": \"Poverty Black_2016\",\n",
    "                                          \"Poverty American Indian\": \"Poverty American Indian_2016\",\n",
    "                                          \"Poverty Asian\": \"Poverty Asian_2016\",\n",
    "                                          \"Poverty Hispanic\": \"Poverty Hispanic_2016\",\n",
    "                                          \"Poverty Two or More Races\": \"Poverty Two or More Races_2016\",\n",
    "                                          \"Total Poverty Count\": \"Total Poverty Count_2016\",\n",
    "                                          \"Poverty Male\": \"Poverty Male_2016\", \n",
    "                                          \"Poverty Female\": \"Female_2016\"})"
   ]
  },
  {
   "cell_type": "markdown",
   "metadata": {},
   "source": [
    "Merge 2017 data"
   ]
  },
  {
   "cell_type": "code",
   "execution_count": 23,
   "metadata": {},
   "outputs": [],
   "source": [
    "# Merge Dataframes\n",
    "poverty_df = pd.merge(poverty_df, poverty_2017_df, on=\"Zipcode\", how=\"outer\")\n",
    "\n",
    "# Rename x columns\n",
    "poverty_df = poverty_df.rename(columns={\"Median Age\": \"Median Age_2017\", \n",
    "                                          \"Poverty White\": \"Poverty White_2017\",\n",
    "                                          \"Poverty Black\": \"Poverty Black_2017\",\n",
    "                                          \"Poverty American Indian\": \"Poverty American Indian_2017\",\n",
    "                                          \"Poverty Asian\": \"Poverty Asian_2017\",\n",
    "                                          \"Poverty Hispanic\": \"Poverty Hispanic_2017\",\n",
    "                                          \"Poverty Two or More Races\": \"Poverty Two or More Races_2017\",\n",
    "                                          \"Total Poverty Count\": \"Total Poverty Count_2017\",\n",
    "                                          \"Poverty Male\": \"Poverty Male_2017\", \n",
    "                                          \"Poverty Female\": \"Female_2017\"})"
   ]
  },
  {
   "cell_type": "markdown",
   "metadata": {},
   "source": [
    "Merge 2018 data"
   ]
  },
  {
   "cell_type": "code",
   "execution_count": 24,
   "metadata": {},
   "outputs": [],
   "source": [
    "# Merge Dataframes\n",
    "poverty_df = pd.merge(poverty_df, poverty_2018_df, on=\"Zipcode\", how=\"outer\")\n",
    "\n",
    "# Rename x columns\n",
    "poverty_df = poverty_df.rename(columns={\"Median Age\": \"Median Age_2018\", \n",
    "                                          \"Poverty White\": \"Poverty White_2018\",\n",
    "                                          \"Poverty Black\": \"Poverty Black_2018\",\n",
    "                                          \"Poverty American Indian\": \"Poverty American Indian_2018\",\n",
    "                                          \"Poverty Asian\": \"Poverty Asian_2018\",\n",
    "                                          \"Poverty Hispanic\": \"Poverty Hispanic_2018\",\n",
    "                                          \"Poverty Two or More Races\": \"Poverty Two or More Races_2018\",\n",
    "                                          \"Total Poverty Count\": \"Total Poverty Count_2018\",\n",
    "                                          \"Poverty Male\": \"Poverty Male_2018\", \n",
    "                                          \"Poverty Female\": \"Female_2018\"})"
   ]
  },
  {
   "cell_type": "markdown",
   "metadata": {},
   "source": [
    "### Merge Housing Data"
   ]
  },
  {
   "cell_type": "markdown",
   "metadata": {},
   "source": [
    "Import Housing data"
   ]
  },
  {
   "cell_type": "code",
   "execution_count": 25,
   "metadata": {},
   "outputs": [],
   "source": [
    "# Import CSV files for housing data\n",
    "housing_file_2011 = \"../Appendix_A_Resources/Census.gov/By_Year/Austin_housing/Austin_housing_2011.csv\"\n",
    "housing_file_2012 = \"../Appendix_A_Resources/Census.gov/By_Year/Austin_housing/Austin_housing_2012.csv\"\n",
    "housing_file_2013 = \"../Appendix_A_Resources/Census.gov/By_Year/Austin_housing/Austin_housing_2013.csv\"\n",
    "housing_file_2014 = \"../Appendix_A_Resources/Census.gov/By_Year/Austin_housing/Austin_housing_2014.csv\"\n",
    "housing_file_2015 = \"../Appendix_A_Resources/Census.gov/By_Year/Austin_housing/Austin_housing_2015.csv\"\n",
    "housing_file_2016 = \"../Appendix_A_Resources/Census.gov/By_Year/Austin_housing/Austin_housing_2016.csv\"\n",
    "housing_file_2017 = \"../Appendix_A_Resources/Census.gov/By_Year/Austin_housing/Austin_housing_2017.csv\"\n",
    "housing_file_2018 = \"../Appendix_A_Resources/Census.gov/By_Year/Austin_housing/Austin_housing_2018.csv\"\n",
    "\n",
    "\n",
    "# Read CSVs\n",
    "housing_csv_2011 = pd.read_csv(housing_file_2011)\n",
    "housing_csv_2012 = pd.read_csv(housing_file_2012)\n",
    "housing_csv_2013 = pd.read_csv(housing_file_2013)\n",
    "housing_csv_2014 = pd.read_csv(housing_file_2014)\n",
    "housing_csv_2015 = pd.read_csv(housing_file_2015)\n",
    "housing_csv_2016 = pd.read_csv(housing_file_2016)\n",
    "housing_csv_2017 = pd.read_csv(housing_file_2017)\n",
    "housing_csv_2018 = pd.read_csv(housing_file_2018)\n",
    "\n",
    "# Convert CSVs to Dataframe\n",
    "housing_2011_df = pd.DataFrame(housing_csv_2011)\n",
    "housing_2012_df = pd.DataFrame(housing_csv_2012)\n",
    "housing_2013_df = pd.DataFrame(housing_csv_2013)\n",
    "housing_2014_df = pd.DataFrame(housing_csv_2014)\n",
    "housing_2015_df = pd.DataFrame(housing_csv_2015)\n",
    "housing_2016_df = pd.DataFrame(housing_csv_2016)\n",
    "housing_2017_df = pd.DataFrame(housing_csv_2017)\n",
    "housing_2018_df = pd.DataFrame(housing_csv_2018)"
   ]
  },
  {
   "cell_type": "markdown",
   "metadata": {},
   "source": [
    "Merge 2011 and 2012 data"
   ]
  },
  {
   "cell_type": "code",
   "execution_count": 26,
   "metadata": {},
   "outputs": [],
   "source": [
    "# Merge Dataframes\n",
    "housing_df = pd.merge(housing_2011_df, housing_2012_df, on=\"Zipcode\", how=\"outer\")\n",
    "\n",
    "# Rename x columns\n",
    "housing_df = housing_df.rename(columns={\"Median year housing units were built_x\": \"Median year housing units were built_2011\", \n",
    "                                          \"Median contract rent_x\": \"Median contract rent_2011\",\n",
    "                                          \"Median gross rent (contract rent plus utilities)_x\": \"Median gross rent (contract rent plus utilities)_2011\",\n",
    "                                          \"Median value (dollars) for Owner-Occupied housing units_x\": \"Median value (dollars) for Owner-Occupied housing units_2011\",\n",
    "                                          \"Median Selected Monthly Owner Costs (Dollars) by Mortgage Status_x\": \"Median Selected Monthly Owner Costs (Dollars) by Mortgage Status_2011\"})\n",
    "\n",
    "# Rename y columns\n",
    "housing_df = housing_df.rename(columns={\"Median year housing units were built_y\": \"Median year housing units were built_2012\", \n",
    "                                          \"Median contract rent_y\": \"Median contract rent_2012\",\n",
    "                                          \"Median gross rent (contract rent plus utilities)_y\": \"Median gross rent (contract rent plus utilities)_2012\",\n",
    "                                          \"Median value (dollars) for Owner-Occupied housing units_y\": \"Median value (dollars) for Owner-Occupied housing units_2012\",\n",
    "                                          \"Median Selected Monthly Owner Costs (Dollars) by Mortgage Status_y\": \"Median Selected Monthly Owner Costs (Dollars) by Mortgage Status_2012\"})"
   ]
  },
  {
   "cell_type": "markdown",
   "metadata": {},
   "source": [
    "Merge 2013 data"
   ]
  },
  {
   "cell_type": "code",
   "execution_count": 27,
   "metadata": {},
   "outputs": [],
   "source": [
    "# Merge Dataframes\n",
    "housing_df = pd.merge(housing_df, housing_2013_df, on=\"Zipcode\", how=\"outer\")\n",
    "\n",
    "# Rename x columns\n",
    "housing_df = housing_df.rename(columns={\"Median year housing units were built\": \"Median year housing units were built_2013\", \n",
    "                                          \"Median contract rent\": \"Median contract rent_2013\",\n",
    "                                          \"Median gross rent (contract rent plus utilities)\": \"Median gross rent (contract rent plus utilities)_2013\",\n",
    "                                          \"Median value (dollars) for Owner-Occupied housing units\": \"Median value (dollars) for Owner-Occupied housing units_2013\",\n",
    "                                          \"Median Selected Monthly Owner Costs (Dollars) by Mortgage Status\": \"Median Selected Monthly Owner Costs (Dollars) by Mortgage Status_2013\"})"
   ]
  },
  {
   "cell_type": "markdown",
   "metadata": {},
   "source": [
    "Merge 2014 data"
   ]
  },
  {
   "cell_type": "code",
   "execution_count": 28,
   "metadata": {},
   "outputs": [],
   "source": [
    "# Merge Dataframes\n",
    "housing_df = pd.merge(housing_df, housing_2014_df, on=\"Zipcode\", how=\"outer\")\n",
    "\n",
    "# Rename x columns\n",
    "housing_df = housing_df.rename(columns={\"Median year housing units were built\": \"Median year housing units were built_2014\", \n",
    "                                          \"Median contract rent\": \"Median contract rent_2014\",\n",
    "                                          \"Median gross rent (contract rent plus utilities)\": \"Median gross rent (contract rent plus utilities)_2014\",\n",
    "                                          \"Median value (dollars) for Owner-Occupied housing units\": \"Median value (dollars) for Owner-Occupied housing units_2014\",\n",
    "                                          \"Median Selected Monthly Owner Costs (Dollars) by Mortgage Status\": \"Median Selected Monthly Owner Costs (Dollars) by Mortgage Status_2014\"})"
   ]
  },
  {
   "cell_type": "markdown",
   "metadata": {},
   "source": [
    "Merge 2015 data\n",
    "\n"
   ]
  },
  {
   "cell_type": "code",
   "execution_count": 29,
   "metadata": {},
   "outputs": [],
   "source": [
    "# Merge Dataframes\n",
    "housing_df = pd.merge(housing_df, housing_2015_df, on=\"Zipcode\", how=\"outer\")\n",
    "\n",
    "# Rename x columns\n",
    "housing_df = housing_df.rename(columns={\"Median year housing units were built\": \"Median year housing units were built_2015\", \n",
    "                                          \"Median contract rent\": \"Median contract rent_2015\",\n",
    "                                          \"Median gross rent (contract rent plus utilities)\": \"Median gross rent (contract rent plus utilities)_2015\",\n",
    "                                          \"Median value (dollars) for Owner-Occupied housing units\": \"Median value (dollars) for Owner-Occupied housing units_2015\",\n",
    "                                          \"Median Selected Monthly Owner Costs (Dollars) by Mortgage Status\": \"Median Selected Monthly Owner Costs (Dollars) by Mortgage Status_2015\"})"
   ]
  },
  {
   "cell_type": "markdown",
   "metadata": {},
   "source": [
    "Merge 2016 data"
   ]
  },
  {
   "cell_type": "code",
   "execution_count": 30,
   "metadata": {},
   "outputs": [],
   "source": [
    "# Merge Dataframes\n",
    "housing_df = pd.merge(housing_df, housing_2016_df, on=\"Zipcode\", how=\"outer\")\n",
    "\n",
    "# Rename x columns\n",
    "housing_df = housing_df.rename(columns={\"Median year housing units were built\": \"Median year housing units were built_2016\", \n",
    "                                          \"Median contract rent\": \"Median contract rent_2016\",\n",
    "                                          \"Median gross rent (contract rent plus utilities)\": \"Median gross rent (contract rent plus utilities)_2016\",\n",
    "                                          \"Median value (dollars) for Owner-Occupied housing units\": \"Median value (dollars) for Owner-Occupied housing units_2016\",\n",
    "                                          \"Median Selected Monthly Owner Costs (Dollars) by Mortgage Status\": \"Median Selected Monthly Owner Costs (Dollars) by Mortgage Status_2016\"})"
   ]
  },
  {
   "cell_type": "markdown",
   "metadata": {},
   "source": [
    "Merge 2017 data"
   ]
  },
  {
   "cell_type": "code",
   "execution_count": 31,
   "metadata": {},
   "outputs": [],
   "source": [
    "# Merge Dataframes\n",
    "housing_df = pd.merge(housing_df, housing_2017_df, on=\"Zipcode\", how=\"outer\")\n",
    "\n",
    "# Rename x columns\n",
    "housing_df = housing_df.rename(columns={\"Median year housing units were built\": \"Median year housing units were built_2017\", \n",
    "                                          \"Median contract rent\": \"Median contract rent_2017\",\n",
    "                                          \"Median gross rent (contract rent plus utilities)\": \"Median gross rent (contract rent plus utilities)_2017\",\n",
    "                                          \"Median value (dollars) for Owner-Occupied housing units\": \"Median value (dollars) for Owner-Occupied housing units_2017\",\n",
    "                                          \"Median Selected Monthly Owner Costs (Dollars) by Mortgage Status\": \"Median Selected Monthly Owner Costs (Dollars) by Mortgage Status_2017\"})"
   ]
  },
  {
   "cell_type": "markdown",
   "metadata": {},
   "source": [
    "Merge 2018 data"
   ]
  },
  {
   "cell_type": "code",
   "execution_count": 32,
   "metadata": {},
   "outputs": [],
   "source": [
    "# Merge Dataframes\n",
    "housing_df = pd.merge(housing_df, housing_2018_df, on=\"Zipcode\", how=\"outer\")\n",
    "\n",
    "# Rename x columns\n",
    "housing_df = housing_df.rename(columns={\"Median year housing units were built\": \"Median year housing units were built_2018\", \n",
    "                                          \"Median contract rent\": \"Median contract rent_2018\",\n",
    "                                          \"Median gross rent (contract rent plus utilities)\": \"Median gross rent (contract rent plus utilities)_2018\",\n",
    "                                          \"Median value (dollars) for Owner-Occupied housing units\": \"Median value (dollars) for Owner-Occupied housing units_2018\",\n",
    "                                          \"Median Selected Monthly Owner Costs (Dollars) by Mortgage Status\": \"Median Selected Monthly Owner Costs (Dollars) by Mortgage Status_2018\"})"
   ]
  },
  {
   "cell_type": "markdown",
   "metadata": {},
   "source": [
    "### Merge all dataframes"
   ]
  },
  {
   "cell_type": "code",
   "execution_count": 33,
   "metadata": {},
   "outputs": [],
   "source": [
    "# Merge Education Dataframe with Housing Dataframe into an Austin Dataframe\n",
    "Austin_census_df = pd.merge(education_df, housing_df, on=\"Zipcode\", how=\"inner\")"
   ]
  },
  {
   "cell_type": "code",
   "execution_count": 34,
   "metadata": {},
   "outputs": [],
   "source": [
    "# Merge Population Dataframe into Austin Dataframe\n",
    "Austin_census_df = pd.merge(Austin_census_df, population_df, on=\"Zipcode\", how=\"inner\")"
   ]
  },
  {
   "cell_type": "code",
   "execution_count": 35,
   "metadata": {},
   "outputs": [],
   "source": [
    "# Merge Poverty Dataframe into Austin Dataframe\n",
    "Austin_census_df = pd.merge(Austin_census_df, poverty_df, on=\"Zipcode\", how=\"inner\")"
   ]
  },
  {
   "cell_type": "markdown",
   "metadata": {},
   "source": [
    "### Export Merged Dataframes to CSVs"
   ]
  },
  {
   "cell_type": "code",
   "execution_count": 36,
   "metadata": {},
   "outputs": [],
   "source": [
    "# Export merged Education Dataframe\n",
    "education_df.to_csv(\"../Appendix_A_Resources/Census.gov/By_Year/Merged_datasets/Austin_education_merged_clean.csv\")\n",
    "\n",
    "# Export merged Housing Dataframe\n",
    "housing_df.to_csv(\"../Appendix_A_Resources/Census.gov/By_Year/Merged_datasets/Austin_housing_merged_clean.csv\")\n",
    "\n",
    "# Export merged Population Dataframe\n",
    "population_df.to_csv(\"../Appendix_A_Resources/Census.gov/By_Year/Merged_datasets/Austin_population_merged_clean.csv\")\n",
    "\n",
    "# Export merged Poverty Dataframe\n",
    "poverty_df.to_csv(\"../Appendix_A_Resources/Census.gov/By_Year/Merged_datasets/Austin_poverty_merged_clean.csv\")\n",
    "\n",
    "# Export merged all data Dataframe\n",
    "Austin_census_df.to_csv(\"../Appendix_A_Resources/Census.gov/By_Year/Merged_datasets/Austin_census_merged_clean.csv\")"
   ]
  }
 ],
 "metadata": {
  "kernelspec": {
   "display_name": "Python 3",
   "language": "python",
   "name": "python3"
  },
  "language_info": {
   "codemirror_mode": {
    "name": "ipython",
    "version": 3
   },
   "file_extension": ".py",
   "mimetype": "text/x-python",
   "name": "python",
   "nbconvert_exporter": "python",
   "pygments_lexer": "ipython3",
   "version": "3.7.4"
  }
 },
 "nbformat": 4,
 "nbformat_minor": 2
}
