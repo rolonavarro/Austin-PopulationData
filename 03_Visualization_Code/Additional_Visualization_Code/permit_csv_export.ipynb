{
 "cells": [
  {
   "cell_type": "code",
   "execution_count": null,
   "metadata": {},
   "outputs": [],
   "source": [
    "import pandas as pd"
   ]
  },
  {
   "cell_type": "code",
   "execution_count": null,
   "metadata": {},
   "outputs": [],
   "source": [
    "# Exports large Austin permits CSV to smaller file\n",
    "path = '../../Appendix_A_Resources/Issued_Construction_Permits.csv'\n",
    "\n",
    "permit_data = pd.DataFrame(pd.read_csv(path))\n",
    "\n",
    "permit_data = permit_data.loc[permit_data['Calendar Year Issued'] >= 2008]\n",
    "\n",
    "permit_data.to_csv('../../Appendix_A_Resources/permits_2008_2018.csv')"
   ]
  },
  {
   "cell_type": "code",
   "execution_count": null,
   "metadata": {},
   "outputs": [],
   "source": []
  }
 ],
 "metadata": {
  "kernelspec": {
   "display_name": "Python 3",
   "language": "python",
   "name": "python3"
  },
  "language_info": {
   "codemirror_mode": {
    "name": "ipython",
    "version": 3
   },
   "file_extension": ".py",
   "mimetype": "text/x-python",
   "name": "python",
   "nbconvert_exporter": "python",
   "pygments_lexer": "ipython3",
   "version": "3.7.4"
  }
 },
 "nbformat": 4,
 "nbformat_minor": 2
}
