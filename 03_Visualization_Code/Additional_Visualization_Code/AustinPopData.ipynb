{
 "cells": [
  {
   "cell_type": "code",
   "execution_count": 1,
   "metadata": {},
   "outputs": [],
   "source": [
    "# Dependencies\n",
    "import numpy as np\n",
    "import pandas as pd\n",
    "import matplotlib.pyplot as plt"
   ]
  },
  {
   "cell_type": "code",
   "execution_count": 2,
   "metadata": {},
   "outputs": [
    {
     "data": {
      "text/html": [
       "<div>\n",
       "<style scoped>\n",
       "    .dataframe tbody tr th:only-of-type {\n",
       "        vertical-align: middle;\n",
       "    }\n",
       "\n",
       "    .dataframe tbody tr th {\n",
       "        vertical-align: top;\n",
       "    }\n",
       "\n",
       "    .dataframe thead th {\n",
       "        text-align: right;\n",
       "    }\n",
       "</style>\n",
       "<table border=\"1\" class=\"dataframe\">\n",
       "  <thead>\n",
       "    <tr style=\"text-align: right;\">\n",
       "      <th></th>\n",
       "      <th>Year</th>\n",
       "      <th>Population</th>\n",
       "      <th>Growth Rate</th>\n",
       "    </tr>\n",
       "  </thead>\n",
       "  <tbody>\n",
       "    <tr>\n",
       "      <td>0</td>\n",
       "      <td>1850</td>\n",
       "      <td>629</td>\n",
       "      <td>1.3%</td>\n",
       "    </tr>\n",
       "    <tr>\n",
       "      <td>1</td>\n",
       "      <td>1860</td>\n",
       "      <td>3494</td>\n",
       "      <td>18.7%</td>\n",
       "    </tr>\n",
       "    <tr>\n",
       "      <td>2</td>\n",
       "      <td>1870</td>\n",
       "      <td>4428</td>\n",
       "      <td>2.4%</td>\n",
       "    </tr>\n",
       "    <tr>\n",
       "      <td>3</td>\n",
       "      <td>1880</td>\n",
       "      <td>11013</td>\n",
       "      <td>9.5%</td>\n",
       "    </tr>\n",
       "    <tr>\n",
       "      <td>4</td>\n",
       "      <td>1890</td>\n",
       "      <td>14575</td>\n",
       "      <td>2.8%</td>\n",
       "    </tr>\n",
       "    <tr>\n",
       "      <td>...</td>\n",
       "      <td>...</td>\n",
       "      <td>...</td>\n",
       "      <td>...</td>\n",
       "    </tr>\n",
       "    <tr>\n",
       "      <td>66</td>\n",
       "      <td>2015</td>\n",
       "      <td>900701</td>\n",
       "      <td>2.5%</td>\n",
       "    </tr>\n",
       "    <tr>\n",
       "      <td>67</td>\n",
       "      <td>2016</td>\n",
       "      <td>926426</td>\n",
       "      <td>2.9%</td>\n",
       "    </tr>\n",
       "    <tr>\n",
       "      <td>68</td>\n",
       "      <td>2017</td>\n",
       "      <td>949587</td>\n",
       "      <td>2.5%</td>\n",
       "    </tr>\n",
       "    <tr>\n",
       "      <td>69</td>\n",
       "      <td>2018</td>\n",
       "      <td>967629</td>\n",
       "      <td>1.9%</td>\n",
       "    </tr>\n",
       "    <tr>\n",
       "      <td>70</td>\n",
       "      <td>2019</td>\n",
       "      <td>985504</td>\n",
       "      <td>1.8%</td>\n",
       "    </tr>\n",
       "  </tbody>\n",
       "</table>\n",
       "<p>71 rows × 3 columns</p>\n",
       "</div>"
      ],
      "text/plain": [
       "    Year  Population Growth Rate\n",
       "0   1850         629        1.3%\n",
       "1   1860        3494      18.7% \n",
       "2   1870        4428       2.4% \n",
       "3   1880       11013       9.5% \n",
       "4   1890       14575       2.8% \n",
       "..   ...         ...         ...\n",
       "66  2015      900701        2.5%\n",
       "67  2016      926426        2.9%\n",
       "68  2017      949587        2.5%\n",
       "69  2018      967629        1.9%\n",
       "70  2019      985504        1.8%\n",
       "\n",
       "[71 rows x 3 columns]"
      ]
     },
     "execution_count": 2,
     "metadata": {},
     "output_type": "execute_result"
    }
   ],
   "source": [
    "# Austin population data from \n",
    "# http://www.austintexas.gov/sites/default/files/files/Planning/Demographics/population_history_pub_2019.pdf\n",
    "\n",
    "path = '../../Appendix_A_Resources/austin_pop.csv'\n",
    "\n",
    "pop_data = pd.DataFrame(pd.read_csv(path))\n",
    "\n",
    "pop_data.columns = 'Year','Population','Growth Rate'\n",
    "\n",
    "pop_data"
   ]
  },
  {
   "cell_type": "code",
   "execution_count": 3,
   "metadata": {},
   "outputs": [],
   "source": [
    "austin_year = []\n",
    "austin_pop = []\n",
    "for index, row in pop_data.iterrows():\n",
    "    austin_year.append(row['Year'])\n",
    "    austin_pop.append(row['Population'])"
   ]
  },
  {
   "cell_type": "code",
   "execution_count": 6,
   "metadata": {},
   "outputs": [
    {
     "data": {
      "text/html": [
       "<div>\n",
       "<style scoped>\n",
       "    .dataframe tbody tr th:only-of-type {\n",
       "        vertical-align: middle;\n",
       "    }\n",
       "\n",
       "    .dataframe tbody tr th {\n",
       "        vertical-align: top;\n",
       "    }\n",
       "\n",
       "    .dataframe thead th {\n",
       "        text-align: right;\n",
       "    }\n",
       "</style>\n",
       "<table border=\"1\" class=\"dataframe\">\n",
       "  <thead>\n",
       "    <tr style=\"text-align: right;\">\n",
       "      <th></th>\n",
       "      <th>Year</th>\n",
       "      <th>Population</th>\n",
       "      <th>Growth</th>\n",
       "      <th>Growth Rate</th>\n",
       "    </tr>\n",
       "  </thead>\n",
       "  <tbody>\n",
       "    <tr>\n",
       "      <td>22</td>\n",
       "      <td>1870</td>\n",
       "      <td>1100</td>\n",
       "      <td>NaN</td>\n",
       "      <td>0.00%</td>\n",
       "    </tr>\n",
       "    <tr>\n",
       "      <td>21</td>\n",
       "      <td>1880</td>\n",
       "      <td>3533</td>\n",
       "      <td>2433.0</td>\n",
       "      <td>12.38%</td>\n",
       "    </tr>\n",
       "    <tr>\n",
       "      <td>20</td>\n",
       "      <td>1890</td>\n",
       "      <td>42837</td>\n",
       "      <td>39304.0</td>\n",
       "      <td>28.34%</td>\n",
       "    </tr>\n",
       "    <tr>\n",
       "      <td>19</td>\n",
       "      <td>1900</td>\n",
       "      <td>80671</td>\n",
       "      <td>37834.0</td>\n",
       "      <td>6.53%</td>\n",
       "    </tr>\n",
       "    <tr>\n",
       "      <td>18</td>\n",
       "      <td>1910</td>\n",
       "      <td>237194</td>\n",
       "      <td>156523.0</td>\n",
       "      <td>11.39%</td>\n",
       "    </tr>\n",
       "  </tbody>\n",
       "</table>\n",
       "</div>"
      ],
      "text/plain": [
       "    Year  Population    Growth Growth Rate\n",
       "22  1870        1100       NaN       0.00%\n",
       "21  1880        3533    2433.0      12.38%\n",
       "20  1890       42837   39304.0      28.34%\n",
       "19  1900       80671   37834.0       6.53%\n",
       "18  1910      237194  156523.0      11.39%"
      ]
     },
     "execution_count": 6,
     "metadata": {},
     "output_type": "execute_result"
    }
   ],
   "source": [
    "# CSV info from https://worldpopulationreview.com/us-cities/seattle-population/\n",
    "path2 = '../../Appendix_A_Resources/seattle_pop.csv'\n",
    "\n",
    "seattle_pop_df = pd.DataFrame(pd.read_csv(path2)).sort_values('Year')\n",
    "\n",
    "seattle_pop_df.head()"
   ]
  },
  {
   "cell_type": "code",
   "execution_count": 7,
   "metadata": {},
   "outputs": [],
   "source": [
    "seattle_year = []\n",
    "seattle_pop = []\n",
    "for index, row in seattle_pop_df.iterrows():\n",
    "    seattle_year.append(row['Year'])\n",
    "    seattle_pop.append(row['Population'])"
   ]
  },
  {
   "cell_type": "code",
   "execution_count": 9,
   "metadata": {
    "scrolled": true
   },
   "outputs": [
    {
     "data": {
      "image/png": "[encoded data removed]",
      "text/plain": [
       "<Figure size 864x576 with 1 Axes>"
      ]
     },
     "metadata": {
      "needs_background": "light"
     },
     "output_type": "display_data"
    }
   ],
   "source": [
    "plt.figure(figsize=(12,8))\n",
    "plt.plot(austin_year,austin_pop,c='g',label='Austin')\n",
    "plt.plot(seattle_year,seattle_pop,c='r',label='Seattle')\n",
    "plt.xlabel('Year')\n",
    "plt.ylabel('Population')\n",
    "plt.title('Austin vs. Seattle Population Over Time')\n",
    "plt.xlim(1870,2020)\n",
    "plt.ylim(0,1050000)\n",
    "plt.legend()\n",
    "plt.savefig('../../Appendix_B_Output_Data/homeless_sheltered.png', dpi=100)"
   ]
  },
  {
   "cell_type": "code",
   "execution_count": null,
   "metadata": {},
   "outputs": [],
   "source": []
  }
 ],
 "metadata": {
  "kernelspec": {
   "display_name": "Python 3",
   "language": "python",
   "name": "python3"
  },
  "language_info": {
   "codemirror_mode": {
    "name": "ipython",
    "version": 3
   },
   "file_extension": ".py",
   "mimetype": "text/x-python",
   "name": "python",
   "nbconvert_exporter": "python",
   "pygments_lexer": "ipython3",
   "version": "3.7.4"
  }
 },
 "nbformat": 4,
 "nbformat_minor": 2
}
