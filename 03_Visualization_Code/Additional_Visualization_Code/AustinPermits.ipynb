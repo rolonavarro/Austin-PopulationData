{
 "cells": [
  {
   "cell_type": "code",
   "execution_count": null,
   "metadata": {
    "scrolled": true
   },
   "outputs": [],
   "source": [
    "import pandas as pd\n",
    "import matplotlib.pyplot as plt\n",
    "import numpy as np"
   ]
  },
  {
   "cell_type": "code",
   "execution_count": null,
   "metadata": {},
   "outputs": [],
   "source": [
    "# Data from:\n",
    "# https://data.austintexas.gov/Building-and-Development/Issued-Construction-Permits/3syk-w9eu/data\n",
    "\n",
    "path = '../../Appendix_A_Resources/permits_2008_2018.csv'\n",
    "\n",
    "permit_data = pd.DataFrame(pd.read_csv(path))"
   ]
  },
  {
   "cell_type": "code",
   "execution_count": null,
   "metadata": {},
   "outputs": [],
   "source": [
    "# Group permit DF by year\n",
    "permit_year = permit_data.groupby('Calendar Year Issued')\n",
    "\n",
    "# Create series based on number of permits issued per year\n",
    "years = permit_year.size()"
   ]
  },
  {
   "cell_type": "code",
   "execution_count": null,
   "metadata": {},
   "outputs": [],
   "source": [
    "# Display DF for reference\n",
    "permit_year.head(5)"
   ]
  },
  {
   "cell_type": "code",
   "execution_count": null,
   "metadata": {},
   "outputs": [],
   "source": [
    "# Plot number of permits issued over time\n",
    "years.plot(kind='line',title='Construction Permits Issued per Year',figsize=(10, 6))\n",
    "plt.ylabel('Number of Permits')\n",
    "plt.xlim(2008,2018)\n",
    "plt.savefig('../../Appendix_B_Output_Data/total_permits.png')"
   ]
  },
  {
   "cell_type": "code",
   "execution_count": null,
   "metadata": {},
   "outputs": [],
   "source": [
    "# Separate permit data into 'Residential' and 'Commercial'\n",
    "res_permits = permit_data.loc[permit_data['Permit Class Mapped']=='Residential']\n",
    "com_permits = permit_data.loc[permit_data['Permit Class Mapped']=='Commercial']                                                            "
   ]
  },
  {
   "cell_type": "code",
   "execution_count": null,
   "metadata": {},
   "outputs": [],
   "source": [
    "res_years = res_permits.groupby('Calendar Year Issued').size()\n",
    "com_years = com_permits.groupby('Calendar Year Issued').size()"
   ]
  },
  {
   "cell_type": "code",
   "execution_count": null,
   "metadata": {},
   "outputs": [],
   "source": [
    "# Plot the two lines over time\n",
    "res_years.plot(kind='line',label='Residential',figsize=(10, 6))\n",
    "plt.plot(com_years,label='Commercial')\n",
    "plt.title('Austin Residential and Commercial Pemits (2008,2018)')\n",
    "plt.ylabel('Number of Permits')\n",
    "plt.legend()\n",
    "plt.xlim(2008,2018)\n",
    "plt.savefig('../../Appendix_B_Output_Data/res_com_permits.png')"
   ]
  },
  {
   "cell_type": "code",
   "execution_count": null,
   "metadata": {},
   "outputs": [],
   "source": [
    "# Permits issued per zip code\n",
    "permit_zone = permit_data.groupby('Original Zip')\n",
    "\n",
    "# Create series of number of permits per zip\n",
    "zone_count = permit_zone.size().sort_values(ascending=False)\n",
    "zone_count.head()"
   ]
  },
  {
   "cell_type": "code",
   "execution_count": null,
   "metadata": {},
   "outputs": [],
   "source": [
    "zone_count.to_csv('../../Appendix_A_Resources/permits_by_zip.csv')"
   ]
  },
  {
   "cell_type": "code",
   "execution_count": null,
   "metadata": {},
   "outputs": [],
   "source": [
    "# Graph on bar chart \n",
    "zone_count.plot(kind='bar',figsize=(16, 6))\n",
    "plt.title('Permits Issued by Zip Code (2008,2018)')\n",
    "plt.ylabel('Number of Permits')\n",
    "plt.xticks(rotation=90)\n",
    "plt.savefig('../../Appendix_B_Output_Data/zip_permits.png')"
   ]
  },
  {
   "cell_type": "markdown",
   "metadata": {},
   "source": [
    "### Most construction has happened in 78704\n",
    "The area south of Town Lake, bordered by I-35 and MOPAC and 290 to the south."
   ]
  }
 ],
 "metadata": {
  "kernelspec": {
   "display_name": "Python 3",
   "language": "python",
   "name": "python3"
  },
  "language_info": {
   "codemirror_mode": {
    "name": "ipython",
    "version": 3
   },
   "file_extension": ".py",
   "mimetype": "text/x-python",
   "name": "python",
   "nbconvert_exporter": "python",
   "pygments_lexer": "ipython3",
   "version": "3.7.4"
  }
 },
 "nbformat": 4,
 "nbformat_minor": 2
}
