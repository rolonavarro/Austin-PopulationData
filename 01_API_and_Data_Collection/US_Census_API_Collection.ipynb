{
 "cells": [
  {
   "cell_type": "code",
   "execution_count": 1,
   "metadata": {},
   "outputs": [],
   "source": [
    "# Dependencies\n",
    "import numpy as np\n",
    "import pandas as pd\n",
    "import matplotlib.pyplot as plt\n",
    "import requests\n",
    "from census import Census\n",
    "\n",
    "# Set variable to hold year\n",
    "year = 2018\n",
    "\n",
    "# Census API Key\n",
    "from api_key import api_key\n",
    "c = Census(api_key, year=year)"
   ]
  },
  {
   "cell_type": "markdown",
   "metadata": {},
   "source": [
    "## US Data\n",
    "#### Get Data for all US"
   ]
  },
  {
   "cell_type": "markdown",
   "metadata": {},
   "source": [
    "Get US Population Data"
   ]
  },
  {
   "cell_type": "code",
   "execution_count": 2,
   "metadata": {},
   "outputs": [],
   "source": [
    "# Run API Call for Population Data\n",
    "us_pop_data = c.acs5.get((\"NAME\", \"B01003_001E\", \"B02001_002E\", \"B02001_003E\",\n",
    "                      \"B02001_004E\", \"B02001_005E\", \"B02001_006E\", \"B02001_008E\",                                             \n",
    "                      \"B01002_001E\",\"B19013_001E\",                       \n",
    "                      \"B19301_001E\", \"B23025_004E\", \"B23025_005E\"), \n",
    "                      {'for': 'zip code tabulation area:*'})\n",
    "\n",
    "# Convert to DataFrame\n",
    "us_pop_df = pd.DataFrame(us_pop_data)"
   ]
  },
  {
   "cell_type": "code",
   "execution_count": 3,
   "metadata": {},
   "outputs": [],
   "source": [
    "# Column Reordering\n",
    "us_pop_df = us_pop_df.rename(columns={\n",
    "                                  \"zip code tabulation area\": \"Zipcode\",\n",
    "                                  \"B01003_001E\": \"Population\",\n",
    "                                  \"B02001_002E\": \"Population (White Alone)\",\n",
    "                                  \"B02001_003E\": \"Population (Black Alone)\", \n",
    "                                  \"B02001_004E\": \"Population (American Indian or Alaskan Native Alone)\",\n",
    "                                  \"B02001_005E\": \"Population (Asian Alone)\",\n",
    "                                  \"B02001_006E\": \"Population (Native Hawaiian and Other Pacific Islander Alone)\",\n",
    "                                  \"B02001_008E\": \"Population (Two or more races)\",\n",
    "                                  \"B01002_001E\": \"Median Age\",\n",
    "                                  \"B19013_001E\": \"Household Income\",\n",
    "                                  \"B19301_001E\": \"Per Capita Income\",\n",
    "                                  \"B23025_004E\": \"Employed\",\n",
    "                                  \"B23025_005E\": \"Unemployed\"})"
   ]
  },
  {
   "cell_type": "markdown",
   "metadata": {},
   "source": [
    "Get US Poverty Data"
   ]
  },
  {
   "cell_type": "code",
   "execution_count": 4,
   "metadata": {},
   "outputs": [],
   "source": [
    "# Run API Call for Poverty Data\n",
    "us_poverty_data = c.acs5.get((\"NAME\", \"B17001_002E\", \"B17001_003E\", \"B17001_017E\",\n",
    "                      \"B17001A_002E\", \"B17001B_002E\", \"B17001C_002E\", \"B17001D_002E\",\n",
    "                      \"B17001E_002E\", \"B17001G_002E\"), \n",
    "                      {'for': 'zip code tabulation area:*'})\n",
    "\n",
    "# Convert to DataFrame\n",
    "us_poverty_df = pd.DataFrame(us_poverty_data)"
   ]
  },
  {
   "cell_type": "code",
   "execution_count": 5,
   "metadata": {},
   "outputs": [],
   "source": [
    "try:\n",
    "    # Column Reordering\n",
    "    us_poverty_df = us_poverty_df.rename(columns={\n",
    "                                      \"zip code tabulation area\": \"Zipcode\",\n",
    "                                      \"B17001_002E\": \"Total Poverty Count\",\n",
    "                                      \"B17001_003E\": \"Poverty Male\",\n",
    "                                      \"B17001_017E\": \"Poverty Female\",\n",
    "                                      \"B17001A_002E\": \"Poverty White\",\n",
    "                                      \"B17001B_002E\": \"Poverty Black\",\n",
    "                                      \"B17001C_002E\": \"Poverty American Indian\",\n",
    "                                      \"B17001D_002E\": \"Poverty Asian\",\n",
    "                                      \"B17001E_002E\": \"Poverty Hispanic\",\n",
    "                                      \"B17001G_002E\": \"Poverty Two or More Races\"})\n",
    "\n",
    "except:\n",
    "    print(f\"No data available for {year}.\")"
   ]
  },
  {
   "cell_type": "markdown",
   "metadata": {},
   "source": [
    "Get Housing Data"
   ]
  },
  {
   "cell_type": "code",
   "execution_count": 6,
   "metadata": {},
   "outputs": [],
   "source": [
    "# Run API Call for Housing Data\n",
    "us_housing_data = c.acs5.get((\"NAME\", \"B25035_001E\", \"B25058_001E\", \n",
    "                              \"B25064_001E\", \"B25077_001E\", \"B25088_002E\"), \n",
    "                              {'for': 'zip code tabulation area:*'})\n",
    "\n",
    "# Convert to DataFrame\n",
    "us_housing_df = pd.DataFrame(us_housing_data)"
   ]
  },
  {
   "cell_type": "code",
   "execution_count": 7,
   "metadata": {},
   "outputs": [],
   "source": [
    "try:\n",
    "    # Column Reordering\n",
    "    us_housing_df = us_housing_df.rename(columns={\n",
    "                                      \"zip code tabulation area\": \"Zipcode\",\n",
    "                                      \"B25035_001E\": \"Median year housing units were built\",\n",
    "                                      \"B25058_001E\": \"Median contract rent\",\n",
    "                                      \"B25064_001E\": \"Median gross rent (contract rent plus utilities)\",\n",
    "                                      \"B25077_001E\": \"Median value (dollars) for Owner-Occupied housing units\",\n",
    "                                      \"B25088_002E\": \"Median Selected Monthly Owner Costs (Dollars) by Mortgage Status\"})\n",
    "\n",
    "except:\n",
    "    print(f\"No data available for {year}.\")"
   ]
  },
  {
   "cell_type": "markdown",
   "metadata": {},
   "source": [
    "Get Education Data"
   ]
  },
  {
   "cell_type": "code",
   "execution_count": 8,
   "metadata": {},
   "outputs": [],
   "source": [
    "try:\n",
    "    # Run API Call for Housing Data\n",
    "    us_education_data = c.acs5.get((\"NAME\", \"B15003_002E\", \"B15003_017E\", \"B15003_018E\", \n",
    "                                    \"B15003_021E\", \"B15003_022E\", \"B15003_023E\", \n",
    "                                    \"B15003_024E,\" \"B15003_025E\"), \n",
    "                                    {'for': 'zip code tabulation area:*'})\n",
    "\n",
    "    # Convert to DataFrame\n",
    "    us_education_df = pd.DataFrame(us_education_data)\n",
    "\n",
    "except:\n",
    "    print(f\"No data available for {year}.\")"
   ]
  },
  {
   "cell_type": "code",
   "execution_count": 9,
   "metadata": {},
   "outputs": [],
   "source": [
    "try:\n",
    "    # Column Reordering\n",
    "    us_education_df = us_education_df.rename(columns={\n",
    "                                      \"zip code tabulation area\": \"Zipcode\",\n",
    "                                      \"B15003_002E\": \"Education (No Schooling)\",\n",
    "                                      \"B15003_017E\": \"Education (High School)\",\n",
    "                                      \"B15003_018E\": \"Education (GED)\",\n",
    "                                      \"B15003_021E\": \"Education (Associate's)\",\n",
    "                                      \"B15003_022E\": \"Education (Bachelor's)\",\n",
    "                                      \"B15003_023E\": \"Education (Master's)\",\n",
    "                                      \"B15003_024E\": \"Education (Professional)\",\n",
    "                                      \"B15003_025E\": \"Education (Doctorate)\"})\n",
    "\n",
    "except:\n",
    "    print(f\"No data available for {year}.\")"
   ]
  },
  {
   "cell_type": "markdown",
   "metadata": {},
   "source": [
    "## Austin Data\n",
    "#### Filter out Data for Austin Zip codes"
   ]
  },
  {
   "cell_type": "code",
   "execution_count": 10,
   "metadata": {},
   "outputs": [],
   "source": [
    "# Create a list of Austin zip codes\n",
    "# Include year \n",
    "Austin_zip_codes = [\"78610\", \"78613\", \"78617\", \"78641\", \"78652\", \"78653\", \"78660\", \"78664\", \"78681\", \n",
    "                    \"78701\", \"78702\", \"78703\", \"78704\", \"78705\", \"78712\", \"78717\", \"78719\", \"78721\", \n",
    "                    \"78722\", \"78723\", \"78724\", \"78725\", \"78726\", \"78727\", \"78728\", \"78729\", \"78730\", \n",
    "                    \"78731\", \"78732\", \"78733\", \"78734\", \"78735\", \"78736\", \"78737\", \"78738\", \"78739\", \n",
    "                    \"78741\", \"78742\", \"78744\", \"78745\", \"78746\", \"78747\", \"78748\", \"78749\", \"78750\", \n",
    "                    \"78751\", \"78752\", \"78753\", \"78754\", \"78756\", \"78757\", \"78758\", \"78759\"]"
   ]
  },
  {
   "cell_type": "markdown",
   "metadata": {},
   "source": [
    "Filter out Austin Population Data"
   ]
  },
  {
   "cell_type": "code",
   "execution_count": 11,
   "metadata": {
    "scrolled": true
   },
   "outputs": [],
   "source": [
    "try:\n",
    "    # Filter out rows where zipcode is in Austin\n",
    "    Austin_pop = us_pop_df[us_pop_df[\"Zipcode\"].isin(Austin_zip_codes)]\n",
    "\n",
    "    # Drop \"NAME column\"\n",
    "    Austin_pop = Austin_pop.drop(\"NAME\", axis=1)\n",
    "\n",
    "except:\n",
    "    print(f\"No data available for {year}.\")"
   ]
  },
  {
   "cell_type": "code",
   "execution_count": 12,
   "metadata": {},
   "outputs": [],
   "source": [
    "# Save as CSV\n",
    "Austin_pop.to_csv(f\"../Appendix_A_Resources/Census.gov/By_Year/Austin_population_{year}.csv\", encoding=\"utf-8\")"
   ]
  },
  {
   "cell_type": "markdown",
   "metadata": {},
   "source": [
    "Filter out Austin Poverty Data"
   ]
  },
  {
   "cell_type": "code",
   "execution_count": 13,
   "metadata": {},
   "outputs": [],
   "source": [
    "try:\n",
    "    # Filter out rows where zipcode is in Austin\n",
    "    Austin_poverty = us_poverty_df[us_poverty_df[\"Zipcode\"].isin(Austin_zip_codes)]\n",
    "\n",
    "    # Drop \"NAME column\"\n",
    "    Austin_poverty = Austin_poverty.drop(\"NAME\", axis=1)\n",
    "\n",
    "except:\n",
    "    print(f\"No data available for {year}.\")"
   ]
  },
  {
   "cell_type": "code",
   "execution_count": 14,
   "metadata": {},
   "outputs": [],
   "source": [
    "# Save as CSV\n",
    "Austin_poverty.to_csv(f\"../Appendix_A_Resources/Census.gov/By_Year/Austin_poverty_{year}.csv\", encoding=\"utf-8\")"
   ]
  },
  {
   "cell_type": "markdown",
   "metadata": {},
   "source": [
    "Filter out Austin Housing Data"
   ]
  },
  {
   "cell_type": "code",
   "execution_count": 15,
   "metadata": {},
   "outputs": [],
   "source": [
    "try:\n",
    "    # Filter out rows where zipcode is in Austin\n",
    "    Austin_housing = us_housing_df[us_housing_df[\"Zipcode\"].isin(Austin_zip_codes)]\n",
    "\n",
    "    # Drop \"NAME column\"\n",
    "    Austin_housing = Austin_housing.drop(\"NAME\", axis=1)\n",
    "\n",
    "except:\n",
    "    print(f\"No data available for {year}.\")"
   ]
  },
  {
   "cell_type": "code",
   "execution_count": 16,
   "metadata": {},
   "outputs": [],
   "source": [
    "# Save as CSV\n",
    "Austin_housing.to_csv(f\"../Appendix_A_Resources/Census.gov/By_Year/Austin_housing_{year}.csv\", encoding=\"utf-8\")"
   ]
  },
  {
   "cell_type": "markdown",
   "metadata": {},
   "source": [
    "Filter out Austin Education Data"
   ]
  },
  {
   "cell_type": "code",
   "execution_count": 17,
   "metadata": {},
   "outputs": [],
   "source": [
    "try:\n",
    "    # Filter out rows where zipcode is in Austin\n",
    "    Austin_education = us_education_df[us_education_df[\"Zipcode\"].isin(Austin_zip_codes)]\n",
    "\n",
    "    # Drop \"NAME column\"\n",
    "    Austin_education = Austin_education.drop(\"NAME\", axis=1)\n",
    "\n",
    "except:\n",
    "    print(f\"No data available for {year}.\")"
   ]
  },
  {
   "cell_type": "code",
   "execution_count": 18,
   "metadata": {},
   "outputs": [],
   "source": [
    "try:\n",
    "    # Save as CSV\n",
    "    Austin_education.to_csv(f\"../Appendix_A_Resources/Census.gov/By_Year/Austin_education_{year}.csv\", encoding=\"utf-8\")\n",
    "except:\n",
    "    print(f\"No data available for {year}.\")"
   ]
  },
  {
   "cell_type": "code",
   "execution_count": null,
   "metadata": {},
   "outputs": [],
   "source": []
  },
  {
   "cell_type": "code",
   "execution_count": null,
   "metadata": {},
   "outputs": [],
   "source": []
  },
  {
   "cell_type": "code",
   "execution_count": null,
   "metadata": {},
   "outputs": [],
   "source": []
  }
 ],
 "metadata": {
  "kernelspec": {
   "display_name": "Python 3",
   "language": "python",
   "name": "python3"
  },
  "language_info": {
   "codemirror_mode": {
    "name": "ipython",
    "version": 3
   },
   "file_extension": ".py",
   "mimetype": "text/x-python",
   "name": "python",
   "nbconvert_exporter": "python",
   "pygments_lexer": "ipython3",
   "version": "3.7.4"
  }
 },
 "nbformat": 4,
 "nbformat_minor": 2
}
